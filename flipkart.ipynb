{
 "cells": [
  {
   "cell_type": "markdown",
   "metadata": {},
   "source": [
    "Web Scraping Flipkart \n",
    "\n",
    "1)Making list of Books.\n",
    "2)Scraping Title,Rating and Price of Books \n",
    "3)Saving into MySQL Database\n",
    "4)A beginner can understand this Code as it is not that much Pythonic"
   ]
  },
  {
   "cell_type": "code",
   "execution_count": 3,
   "metadata": {},
   "outputs": [
    {
     "name": "stdout",
     "output_type": "stream",
     "text": [
      "160 record inserted.\n"
     ]
    }
   ],
   "source": [
    "import pandas as pd\n",
    "import requests\n",
    "from urllib.request import urlopen\n",
    "from bs4 import BeautifulSoup\n",
    "\n",
    "#declaring 3 empty list\n",
    "\n",
    "Rating=[]\n",
    "Title=[]\n",
    "Price=[]\n",
    "\n",
    "#iterating over different url of using for Loop\n",
    "\n",
    "for i in range(1,5):\n",
    "    URL='https://www.flipkart.com/books/fiction-nonfiction-books/literature-fiction-books/romance-books/pr?sid=bks%2Cfnf%2Cgld%2C83v&otracker=clp_banner_1_5.bannerX3.BANNER_theliterature-fiction-store_DUU64IPVDV&fm=neo%2Fmerchandising&iid=M_5147f290-6314-49bb-a859-e430f3fac7f7_5.DUU64IPVDV&ppt=clp&ppn=theliterature-fiction-store&page='+str(i)\n",
    "    r = requests.get(URL) \n",
    "    soup = BeautifulSoup(r.content, 'html.parser')\n",
    "    \n",
    "    #Parsing Text From Soup Object using HTML Tags and Attribute For Desired Data\n",
    "    \n",
    "    rating = soup.find_all(\"div\", class_=\"hGSR34\")\n",
    "    price = soup.find_all(\"div\", class_=\"_1vC4OE\")\n",
    "    title = soup.find_all(\"a\", class_=\"_2cLu-l\")\n",
    "    \n",
    "    # Iterating over above variable and parsing the text and saving into different list\n",
    "    \n",
    "    for a in title:\n",
    "        Title.append(a.text)\n",
    "    for b in price:    \n",
    "        Price.append(b.text)\n",
    "    for c in rating:    \n",
    "        Rating.append(c.text)  \n",
    "# Cleaning the special character from price list\n",
    "\n",
    "Price=list(map(lambda x: x.replace('₹',''),Price))\n",
    "Price=list(map(lambda x: x.replace(',',''),Price))\n",
    "\n",
    "# Making List of tuple and changing to dataframe for another process\n",
    "\n",
    "Data=list(zip(Title,Price,Rating))\n",
    "df = pd.DataFrame(Data)\n",
    "df.head(10)\n",
    "\n",
    "# Connecting to MySQL Database\n",
    "\n",
    "import mysql.connector\n",
    "\n",
    "mydb = mysql.connector.connect(\n",
    "  host=\"localhost\",\n",
    "  user=\"root\",\n",
    "  passwd=\"xyz\",\n",
    "  database=\"abc\"\n",
    ")\n",
    "\n",
    "# Creating Cursor object\n",
    "\n",
    "mycursor = mydb.cursor()\n",
    "\n",
    "# Creating the Table in MySQL Database\n",
    "\n",
    "mycursor.execute(\"create table Books (TS TIMESTAMP DEFAULT CURRENT_TIMESTAMP() ON UPDATE CURRENT_TIMESTAMP(),Title Varchar(255),Price float(23,2),Rating float(23,1))\")\n",
    "\n",
    "# Making the SQL Insert Query\n",
    "\n",
    "sql = \"INSERT INTO Books (Title, Price, Rating) VALUES (%s, %s, %s)\"\n",
    "\n",
    "# Executing Insert Query and using List of Tuple as Values \n",
    "mycursor.executemany(sql, Data)\n",
    "\n",
    "mydb.commit()\n",
    "\n",
    "print(mycursor.rowcount, \"record inserted.\")\n",
    "mydb.close()\n",
    "        "
   ]
  }
 ],
 "metadata": {
  "kernelspec": {
   "display_name": "Python 3",
   "language": "python",
   "name": "python3"
  },
  "language_info": {
   "codemirror_mode": {
    "name": "ipython",
    "version": 3
   },
   "file_extension": ".py",
   "mimetype": "text/x-python",
   "name": "python",
   "nbconvert_exporter": "python",
   "pygments_lexer": "ipython3",
   "version": "3.7.1"
  }
 },
 "nbformat": 4,
 "nbformat_minor": 2
}
